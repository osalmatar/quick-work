{
 "cells": [
  {
   "cell_type": "code",
   "execution_count": 5,
   "metadata": {},
   "outputs": [],
   "source": [
    "import pandas as pd"
   ]
  },
  {
   "cell_type": "code",
   "execution_count": 7,
   "metadata": {},
   "outputs": [
    {
     "data": {
      "text/plain": [
       "<bound method NDFrame.head of             Ticker  Date/Time  Close      SL  Mega Buy by Larger Wave   \\\n",
       "0        360ONE.NS   2/7/2024   1014  265.38                    637.21   \n",
       "1        360ONE.NS  2/26/2024   1014  358.38                       NaN   \n",
       "2        360ONE.NS   4/1/2024   1014  357.50                    683.60   \n",
       "3        360ONE.NS  4/25/2024   1014  308.95                       NaN   \n",
       "4        360ONE.NS  5/10/2024   1014  426.42                    742.76   \n",
       "...            ...        ...    ...     ...                       ...   \n",
       "86446  ZUARIIND.NS  7/24/2024    370  136.10                    366.38   \n",
       "86447  ZUARIIND.NS  7/30/2024    370  136.10                       NaN   \n",
       "86448  ZUARIIND.NS  8/19/2024    370  136.10                    336.77   \n",
       "86449  ZUARIIND.NS  8/30/2024    370  136.10                       NaN   \n",
       "86450  ZUARIIND.NS  10/1/2024    370  345.00                    354.91   \n",
       "\n",
       "       Mega Sellby Larger Wave  Short_SL  \n",
       "0                          NaN    652.70  \n",
       "1                       760.70    775.00  \n",
       "2                          NaN    702.50  \n",
       "3                       832.21    900.95  \n",
       "4                          NaN    900.95  \n",
       "...                        ...       ...  \n",
       "86446                      NaN    423.40  \n",
       "86447                   392.50    395.00  \n",
       "86448                      NaN    399.40  \n",
       "86449                   392.70    400.90  \n",
       "86450                      NaN    390.85  \n",
       "\n",
       "[86451 rows x 7 columns]>"
      ]
     },
     "execution_count": 7,
     "metadata": {},
     "output_type": "execute_result"
    }
   ],
   "source": [
    "df = pd.read_csv(\"EW_Conv.csv\")"
   ]
  },
  {
   "cell_type": "markdown",
   "metadata": {},
   "source": [
    "# Create a new column called call that takes in long or short values\n",
    "# if Mega Buy field is > 1, long. Otherwise, Short."
   ]
  },
  {
   "cell_type": "code",
   "execution_count": 9,
   "metadata": {},
   "outputs": [],
   "source": [
    "df['Call'] = df['Mega Buy by Larger Wave '].apply(lambda x: 'Long' if x > 1 else 'Short')"
   ]
  },
  {
   "cell_type": "code",
   "execution_count": 11,
   "metadata": {},
   "outputs": [
    {
     "data": {
      "text/plain": [
       "Index(['Ticker', 'Date/Time', 'Close', 'SL', 'Mega Buy by Larger Wave ',\n",
       "       'Mega Sellby Larger Wave', 'Short_SL', 'Call'],\n",
       "      dtype='object')"
      ]
     },
     "execution_count": 11,
     "metadata": {},
     "output_type": "execute_result"
    }
   ],
   "source": [
    "df.columns"
   ]
  }
 ],
 "metadata": {
  "kernelspec": {
   "display_name": "myenv",
   "language": "python",
   "name": "python3"
  },
  "language_info": {
   "codemirror_mode": {
    "name": "ipython",
    "version": 3
   },
   "file_extension": ".py",
   "mimetype": "text/x-python",
   "name": "python",
   "nbconvert_exporter": "python",
   "pygments_lexer": "ipython3",
   "version": "3.9.19"
  }
 },
 "nbformat": 4,
 "nbformat_minor": 2
}
