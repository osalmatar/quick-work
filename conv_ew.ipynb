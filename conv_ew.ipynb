{
 "cells": [
  {
   "cell_type": "markdown",
   "metadata": {},
   "source": [
    "### Create a new column called call that takes in long or short values, output should be last day for each tinker, and create new column called status that takes in open or close, based on the last record of call."
   ]
  },
  {
   "cell_type": "code",
   "execution_count": 7,
   "metadata": {},
   "outputs": [],
   "source": [
    "import pandas as pd\n",
    "\n",
    "def process_ticker_data(csv_file):\n",
    "    # Load the CSV file into a pandas DataFrame\n",
    "    df = pd.read_csv(csv_file)\n",
    "\n",
    "    # Step 1: Create the 'Call' column based on the 'Mega Buy by Larger Wave ' column\n",
    "    df['Call'] = df['Mega Buy by Larger Wave '].apply(lambda x: 'Long' if x > 1 else 'Short')\n",
    "\n",
    "    # Step 2: Convert 'Date/Time' to datetime and sort by 'Ticker' and 'Date/Time'\n",
    "    df['Date/Time'] = pd.to_datetime(df['Date/Time'])\n",
    "    df = df.sort_values(by=['Ticker', 'Date/Time'])\n",
    "\n",
    "    # Step 3: Extract the last row for each Ticker (latest 'Date/Time' record)\n",
    "    last_day_df = df.groupby('Ticker', as_index=False).last()\n",
    "\n",
    "    # Step 4: Create the 'Status' column based on the 'Call' value in the last record for each Ticker\n",
    "    last_day_df['Status'] = last_day_df['Call'].apply(lambda x: 'Open' if x == 'Long' else 'Close')\n",
    "\n",
    "    return last_day_df\n",
    "\n",
    "# Execute the function \n",
    "output_df = process_ticker_data('EW_Conv.csv')\n",
    "\n",
    "\n",
    "# Save the result to a new CSV file\n",
    "output_df.to_csv('last_day_ticker_output.csv', index=False)\n"
   ]
  }
 ],
 "metadata": {
  "kernelspec": {
   "display_name": "myenv",
   "language": "python",
   "name": "python3"
  },
  "language_info": {
   "codemirror_mode": {
    "name": "ipython",
    "version": 3
   },
   "file_extension": ".py",
   "mimetype": "text/x-python",
   "name": "python",
   "nbconvert_exporter": "python",
   "pygments_lexer": "ipython3",
   "version": "3.9.19"
  }
 },
 "nbformat": 4,
 "nbformat_minor": 2
}
