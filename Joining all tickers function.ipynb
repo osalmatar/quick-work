{
 "cells": [
  {
   "cell_type": "code",
   "execution_count": 2,
   "metadata": {},
   "outputs": [],
   "source": [
    "import pandas as pd"
   ]
  },
  {
   "cell_type": "code",
   "execution_count": 3,
   "metadata": {},
   "outputs": [],
   "source": [
    "A = pd.read_csv('ATR.csv')\n",
    "B = pd.read_csv('D_EW_B.csv')\n",
    "C = pd.read_csv('D_EW_S.csv')\n",
    "D = pd.read_csv('HHLL.csv')\n",
    "E = pd.read_csv('LR_Explore.csv')\n",
    "F = pd.read_csv('Pattern_Revv.csv')\n",
    "G = pd.read_csv('SCTR_Trial.csv')\n",
    "H = pd.read_csv('ZigZag.csv')"
   ]
  },
  {
   "cell_type": "markdown",
   "metadata": {},
   "source": [
    "Data cleaning to rename each \"Buy\" field into df_Buy.\n",
    "Applied on ATR, D_EW, LR_Explore, and ZigZag"
   ]
  },
  {
   "cell_type": "code",
   "execution_count": 7,
   "metadata": {},
   "outputs": [],
   "source": [
    "# Rename column 'Buy' to 'ALR_Buy'\n",
    "A.head()\n",
    "A.rename(columns={'Buy': 'ALR_Buy'}, inplace=True)"
   ]
  },
  {
   "cell_type": "code",
   "execution_count": 17,
   "metadata": {},
   "outputs": [],
   "source": [
    "B.head()\n",
    "B.rename(columns={'Mega Buy by Larger Wave ': 'D_EW_Buy'}, inplace=True)"
   ]
  },
  {
   "cell_type": "code",
   "execution_count": 22,
   "metadata": {},
   "outputs": [
    {
     "data": {
      "text/plain": [
       "Index(['Ticker', 'Date/Time', 'Close', 'D_EW_Sell', 'SL'], dtype='object')"
      ]
     },
     "execution_count": 22,
     "metadata": {},
     "output_type": "execute_result"
    }
   ],
   "source": [
    "C.head()\n",
    "C.rename(columns={'Mega Sellby Larger Wave': 'D_EW_Sell'}, inplace=True)"
   ]
  },
  {
   "cell_type": "code",
   "execution_count": 28,
   "metadata": {},
   "outputs": [],
   "source": [
    "E.head()\n",
    "E.rename(columns={'myBuy ': 'LR_Explore_Buy'}, inplace=True)"
   ]
  },
  {
   "cell_type": "code",
   "execution_count": 33,
   "metadata": {},
   "outputs": [],
   "source": [
    "H.columns\n",
    "H.rename(columns={'Buy': 'ZigZag_Buy'}, inplace=True)"
   ]
  },
  {
   "cell_type": "code",
   "execution_count": 36,
   "metadata": {},
   "outputs": [
    {
     "name": "stdout",
     "output_type": "stream",
     "text": [
      "Field          Ticker Date/Time ALR_Buy Alert BearBreak BullBreak Close  \\\n",
      "0          ATLANTA.NS  1/1/2024     NaN   0.0       NaN       NaN   NaN   \n",
      "1             GATI.NS  1/1/2024     NaN   0.0       NaN       NaN   NaN   \n",
      "2       TATACOFFEE.NS  1/1/2024     NaN   0.0       NaN       NaN   NaN   \n",
      "3       TATAMETALI.NS  1/1/2024     NaN   0.0       NaN       NaN   NaN   \n",
      "4         TINPLATE.NS  1/1/2024     NaN   0.0       NaN       NaN   NaN   \n",
      "...               ...       ...     ...   ...       ...       ...   ...   \n",
      "132118      ^CNXMETAL  9/9/2024     NaN   0.0       NaN       NaN   NaN   \n",
      "132119    ^CNXPSUBANK  9/9/2024     NaN   0.0       NaN       NaN   NaN   \n",
      "132120     ^CNXREALTY  9/9/2024     NaN   0.0       NaN       NaN   NaN   \n",
      "132121       ^NSEBANK  9/9/2024     NaN   0.0       NaN       NaN   NaN   \n",
      "132122          ^NSEI  9/9/2024     NaN   0.0       NaN       NaN   NaN   \n",
      "\n",
      "Field  D_EW_B_Buy D_EW_Sell DnBars  ...    Rank    S1   SCTR   SL UpBars  \\\n",
      "0             NaN       NaN    NaN  ...   660.0  0.54  35.59  NaN    NaN   \n",
      "1             NaN       NaN    NaN  ...  2880.0  1.89  -0.83  NaN    NaN   \n",
      "2             NaN       NaN    NaN  ...  1070.0  0.04  26.08  NaN    NaN   \n",
      "3             NaN       NaN    NaN  ...  1216.0  0.43  23.28  NaN    NaN   \n",
      "4             NaN       NaN    NaN  ...  1177.0  0.59  23.95  NaN    NaN   \n",
      "...           ...       ...    ...  ...     ...   ...    ...  ...    ...   \n",
      "132118        NaN       NaN    NaN  ...  1798.0 -2.09   6.57  NaN    NaN   \n",
      "132119        NaN       NaN    NaN  ...  2550.0 -1.05  -1.79  NaN    NaN   \n",
      "132120        NaN       NaN    NaN  ...  1619.0 -0.77    8.9  NaN    NaN   \n",
      "132121        NaN       NaN    NaN  ...  1788.0  0.44   6.69  NaN    NaN   \n",
      "132122        NaN       NaN    NaN  ...  1549.0 -0.28   9.69  NaN    NaN   \n",
      "\n",
      "Field  Uptrend Length ZigZag_Buy   hh   ll myShort  \n",
      "0                 NaN        NaN  NaN  NaN     NaN  \n",
      "1                 NaN        NaN  NaN  NaN     NaN  \n",
      "2                 NaN        NaN  NaN  NaN     NaN  \n",
      "3                 NaN        NaN  NaN  NaN     NaN  \n",
      "4                 NaN        NaN  NaN  NaN     NaN  \n",
      "...               ...        ...  ...  ...     ...  \n",
      "132118            NaN        NaN  NaN  NaN     NaN  \n",
      "132119            NaN        NaN  NaN  NaN     NaN  \n",
      "132120            NaN        NaN  NaN  NaN     NaN  \n",
      "132121            NaN        NaN  NaN  NaN     NaN  \n",
      "132122            NaN        NaN  NaN  NaN     NaN  \n",
      "\n",
      "[132123 rows x 30 columns]\n"
     ]
    }
   ],
   "source": [
    "# List of dataframes to merge\n",
    "tables = [A, B, C, D, E, F, G, H]\n",
    "\n",
    "# Start with an empty DataFrame for the final result\n",
    "final_table = pd.DataFrame()\n",
    "\n",
    "# Perform full outer join on Date/Time and create new rows for each Ticker\n",
    "for table in tables:\n",
    "    if 'Ticker' in table.columns:\n",
    "        # Include 'Ticker' and 'Date/Time' in the melt operation\n",
    "        temp = pd.melt(table, id_vars=['Date/Time', 'Ticker'], var_name='Field', value_name='Value')\n",
    "    else:\n",
    "        # If 'Ticker' is not present, use only 'Date/Time'\n",
    "        temp = pd.melt(table, id_vars=['Date/Time'], var_name='Field', value_name='Value')\n",
    "\n",
    "    final_table = pd.concat([final_table, temp], ignore_index=True)\n",
    "\n",
    "# Pivot the final table to get back the desired structure\n",
    "final_table = final_table.pivot_table(index=['Date/Time', 'Ticker'], columns='Field', values='Value', aggfunc='first').reset_index()\n",
    "\n",
    "# Re-arrange columns to have 'Ticker' as the first column\n",
    "cols = ['Ticker', 'Date/Time'] + [col for col in final_table.columns if col not in ['Ticker', 'Date/Time']]\n",
    "final_table = final_table[cols]\n",
    "\n",
    "# Display the final result\n",
    "print(final_table)\n",
    "\n",
    "# Optionally, save the result to a CSV file\n",
    "final_table.to_csv('joined_tickers.csv', index=False)\n"
   ]
  }
 ],
 "metadata": {
  "kernelspec": {
   "display_name": "myenv",
   "language": "python",
   "name": "python3"
  },
  "language_info": {
   "codemirror_mode": {
    "name": "ipython",
    "version": 3
   },
   "file_extension": ".py",
   "mimetype": "text/x-python",
   "name": "python",
   "nbconvert_exporter": "python",
   "pygments_lexer": "ipython3",
   "version": "3.9.19"
  }
 },
 "nbformat": 4,
 "nbformat_minor": 2
}
