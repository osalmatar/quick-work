{
 "cells": [
  {
   "cell_type": "code",
   "execution_count": 25,
   "metadata": {},
   "outputs": [],
   "source": [
    "import pandas as pd"
   ]
  },
  {
   "cell_type": "code",
   "execution_count": 26,
   "metadata": {},
   "outputs": [],
   "source": [
    "A = pd.read_csv('ATR.csv')\n",
    "B = pd.read_csv('D_EW_B.csv')\n",
    "C = pd.read_csv('D_EW_S.csv')\n",
    "D = pd.read_csv('HHLL.csv')\n",
    "E = pd.read_csv('LR_Explore.csv')\n",
    "F = pd.read_csv('Pattern_Revv.csv')\n",
    "G = pd.read_csv('SCTR_Trial.csv')\n",
    "H = pd.read_csv('ZigZag.csv')"
   ]
  },
  {
   "cell_type": "markdown",
   "metadata": {},
   "source": [
    "Data cleaning to rename each value of Buy into the name of the tinker instead of 1"
   ]
  },
  {
   "cell_type": "code",
   "execution_count": 27,
   "metadata": {},
   "outputs": [
    {
     "data": {
      "text/plain": [
       "<bound method NDFrame.head of           Ticker  Date/Time  Buy\n",
       "0      360ONE.NS  9/26/2024  ATR\n",
       "1      1STCUS.BO  9/24/2024  ATR\n",
       "2       ^CNXAUTO  9/26/2024  ATR\n",
       "3    ^CNXPSUBANK  9/23/2024  ATR\n",
       "4      ^CNXMETAL  9/24/2024  ATR\n",
       "..           ...        ...  ...\n",
       "400  ZBINTXPP.BO  9/27/2024  ATR\n",
       "401  ZEEMEDIA.NS  9/23/2024  ATR\n",
       "402  ZEEMEDIA.NS  9/26/2024  ATR\n",
       "403  ZSARACOM.BO  9/27/2024  ATR\n",
       "404     ZUARI.NS  9/27/2024  ATR\n",
       "\n",
       "[405 rows x 3 columns]>"
      ]
     },
     "execution_count": 27,
     "metadata": {},
     "output_type": "execute_result"
    }
   ],
   "source": [
    "A['Buy'] = A['Buy'].replace(1, 'ATR')\n",
    "A.head"
   ]
  },
  {
   "cell_type": "code",
   "execution_count": 28,
   "metadata": {},
   "outputs": [
    {
     "data": {
      "text/plain": [
       "<bound method NDFrame.head of               Ticker  Date/Time  Close Buy        SL\n",
       "0          360ONE.NS  7/15/2024   1068  EW    926.30\n",
       "1          360ONE.NS   8/7/2024   1068  EW    982.40\n",
       "2      21STCENMGM.NS  7/23/2024    109  EW     74.35\n",
       "3          1STCUS.BO  7/30/2024    122  EW     84.20\n",
       "4          1STCUS.BO  9/13/2024    122  EW     89.35\n",
       "...              ...        ...    ...  ..       ...\n",
       "14714    ZSARACOM.BO  7/11/2024  23827  EW   6555.50\n",
       "14715    ZSARACOM.BO  7/25/2024  23827  EW   8600.00\n",
       "14716    ZSARACOM.BO   8/9/2024  23827  EW   8700.00\n",
       "14717    ZSARACOM.BO   9/5/2024  23827  EW  14047.45\n",
       "14718    ZSARACOM.BO  9/27/2024  23827  EW  21561.00\n",
       "\n",
       "[14719 rows x 5 columns]>"
      ]
     },
     "execution_count": 28,
     "metadata": {},
     "output_type": "execute_result"
    }
   ],
   "source": [
    "B.rename(columns={'Mega Buy by Larger Wave ': 'Buy'}, inplace=True)\n",
    "B['Buy'] = 'EW'\n",
    "B.head"
   ]
  },
  {
   "cell_type": "code",
   "execution_count": 29,
   "metadata": {},
   "outputs": [
    {
     "data": {
      "text/plain": [
       "<bound method NDFrame.head of               Ticker  Date/Time  Close  Mega Sellby Larger Wave        SL\n",
       "0          360ONE.NS  7/31/2024   1068                  1128.16    926.30\n",
       "1          360ONE.NS  9/12/2024   1068                  1104.03   1054.50\n",
       "2      21STCENMGM.NS  7/16/2024    109                    81.10     47.65\n",
       "3      21STCENMGM.NS  9/11/2024    109                   140.01     74.35\n",
       "4          1STCUS.BO  8/13/2024    122                   127.15     84.20\n",
       "...              ...        ...    ...                      ...       ...\n",
       "14440      ZIMLAB.BO   9/2/2024    113                   122.70    109.45\n",
       "14441    ZSARACOM.BO  7/12/2024  23827                  9474.80   8799.20\n",
       "14442    ZSARACOM.BO  7/30/2024  23827                  9848.50   8600.00\n",
       "14443    ZSARACOM.BO  8/30/2024  23827                 17125.18   8700.00\n",
       "14444    ZSARACOM.BO  9/23/2024  23827                 26441.24  14047.45\n",
       "\n",
       "[14445 rows x 5 columns]>"
      ]
     },
     "execution_count": 29,
     "metadata": {},
     "output_type": "execute_result"
    }
   ],
   "source": [
    "C.head"
   ]
  },
  {
   "cell_type": "code",
   "execution_count": 30,
   "metadata": {},
   "outputs": [
    {
     "data": {
      "text/plain": [
       "<bound method NDFrame.head of              Ticker  Date/Time    Close       hh       ll  FromLow  FromHigh\n",
       "0         1STCUS.BO  9/20/2024   113.95   127.19    89.35      1.0       0.0\n",
       "1         1STCUS.BO  9/27/2024   121.55   126.35    89.35      2.0       0.0\n",
       "2     21STCENMGM.NS  9/20/2024   120.82   141.40    42.70      0.0       1.0\n",
       "3     21STCENMGM.NS  9/27/2024   109.19   141.40   109.19      0.0       2.0\n",
       "4      20MICRONS.NS  9/20/2024   301.65   348.00   285.40      0.0       4.0\n",
       "...             ...        ...      ...      ...      ...      ...       ...\n",
       "6869   ZYDUSLIFE.NS  9/27/2024  1075.95  1324.30  1038.55      0.0       0.0\n",
       "6870   ZYDUSWELL.NS  9/20/2024  2080.65  2484.00  2055.50      0.0       0.0\n",
       "6871   ZYDUSWELL.NS  9/27/2024  2013.00  2484.00  1961.25      0.0       0.0\n",
       "6872   ZODJRDMKJ.BO  9/20/2024    89.60   134.99    86.95      0.0       3.0\n",
       "6873   ZODJRDMKJ.BO  9/27/2024    90.00   134.99    85.75      0.0       0.0\n",
       "\n",
       "[6874 rows x 7 columns]>"
      ]
     },
     "execution_count": 30,
     "metadata": {},
     "output_type": "execute_result"
    }
   ],
   "source": [
    "D.head"
   ]
  },
  {
   "cell_type": "code",
   "execution_count": 31,
   "metadata": {},
   "outputs": [
    {
     "data": {
      "text/html": [
       "<div>\n",
       "<style scoped>\n",
       "    .dataframe tbody tr th:only-of-type {\n",
       "        vertical-align: middle;\n",
       "    }\n",
       "\n",
       "    .dataframe tbody tr th {\n",
       "        vertical-align: top;\n",
       "    }\n",
       "\n",
       "    .dataframe thead th {\n",
       "        text-align: right;\n",
       "    }\n",
       "</style>\n",
       "<table border=\"1\" class=\"dataframe\">\n",
       "  <thead>\n",
       "    <tr style=\"text-align: right;\">\n",
       "      <th></th>\n",
       "      <th>Ticker</th>\n",
       "      <th>Date/Time</th>\n",
       "      <th>Close</th>\n",
       "      <th>Buy</th>\n",
       "      <th>myShort</th>\n",
       "    </tr>\n",
       "  </thead>\n",
       "  <tbody>\n",
       "    <tr>\n",
       "      <th>0</th>\n",
       "      <td>1STCUS.BO</td>\n",
       "      <td>9/18/2024</td>\n",
       "      <td>122</td>\n",
       "      <td>LR</td>\n",
       "      <td>NaN</td>\n",
       "    </tr>\n",
       "    <tr>\n",
       "      <th>1</th>\n",
       "      <td>^CNXAUTO</td>\n",
       "      <td>9/20/2024</td>\n",
       "      <td>27611</td>\n",
       "      <td>LR</td>\n",
       "      <td>NaN</td>\n",
       "    </tr>\n",
       "    <tr>\n",
       "      <th>2</th>\n",
       "      <td>A2ZINFRA.NS</td>\n",
       "      <td>9/25/2024</td>\n",
       "      <td>19</td>\n",
       "      <td>LR</td>\n",
       "      <td>NaN</td>\n",
       "    </tr>\n",
       "    <tr>\n",
       "      <th>3</th>\n",
       "      <td>AAVAS.NS</td>\n",
       "      <td>9/27/2024</td>\n",
       "      <td>1820</td>\n",
       "      <td>NaN</td>\n",
       "      <td>1.0</td>\n",
       "    </tr>\n",
       "    <tr>\n",
       "      <th>4</th>\n",
       "      <td>ABB.NS</td>\n",
       "      <td>9/25/2024</td>\n",
       "      <td>8133</td>\n",
       "      <td>LR</td>\n",
       "      <td>NaN</td>\n",
       "    </tr>\n",
       "  </tbody>\n",
       "</table>\n",
       "</div>"
      ],
      "text/plain": [
       "        Ticker  Date/Time  Close  Buy  myShort\n",
       "0    1STCUS.BO  9/18/2024    122   LR      NaN\n",
       "1     ^CNXAUTO  9/20/2024  27611   LR      NaN\n",
       "2  A2ZINFRA.NS  9/25/2024     19   LR      NaN\n",
       "3     AAVAS.NS  9/27/2024   1820  NaN      1.0\n",
       "4       ABB.NS  9/25/2024   8133   LR      NaN"
      ]
     },
     "execution_count": 31,
     "metadata": {},
     "output_type": "execute_result"
    }
   ],
   "source": [
    "E.rename(columns={'myBuy ': 'Buy'}, inplace=True)\n",
    "E['Buy'] = E['Buy'].replace(1, 'LR')\n",
    "E.head()"
   ]
  },
  {
   "cell_type": "code",
   "execution_count": 32,
   "metadata": {},
   "outputs": [
    {
     "data": {
      "text/plain": [
       "<bound method NDFrame.head of              Ticker  Date/Time  Buy         BearBreak     Pattern    Close\n",
       "0         1STCUS.BO  9/23/2024  NaN  Bearish Breakout       Wedge   118.00\n",
       "1         1STCUS.BO  9/24/2024  NaN  Bearish Breakout       Wedge   123.90\n",
       "2         1STCUS.BO  9/25/2024  NaN  Bearish Breakout       Wedge   124.00\n",
       "3         1STCUS.BO  9/26/2024  NaN  Bearish Breakout       Wedge   121.55\n",
       "4         1STCUS.BO  9/27/2024  NaN  Bearish Breakout       Wedge   121.55\n",
       "...             ...        ...  ...               ...         ...      ...\n",
       "15761  ZYDUSLIFE.NS  9/23/2024  NaN               NaN  Up Channel  1055.25\n",
       "15762  ZYDUSLIFE.NS  9/24/2024  NaN               NaN  Up Channel  1051.55\n",
       "15763  ZYDUSLIFE.NS  9/25/2024  NaN               NaN  Up Channel  1063.45\n",
       "15764  ZYDUSLIFE.NS  9/26/2024  NaN               NaN  Up Channel  1068.00\n",
       "15765  ZYDUSLIFE.NS  9/27/2024  NaN               NaN  Up Channel  1075.95\n",
       "\n",
       "[15766 rows x 6 columns]>"
      ]
     },
     "execution_count": 32,
     "metadata": {},
     "output_type": "execute_result"
    }
   ],
   "source": [
    "F.rename(columns={'BullBreak': 'Buy'}, inplace=True)\n",
    "F['Buy'] = F['Buy'].replace('bullish Breakout', 'BB')\n",
    "F.head"
   ]
  },
  {
   "cell_type": "code",
   "execution_count": 33,
   "metadata": {},
   "outputs": [
    {
     "data": {
      "text/plain": [
       "array(['ZZ'], dtype=object)"
      ]
     },
     "execution_count": 33,
     "metadata": {},
     "output_type": "execute_result"
    }
   ],
   "source": [
    "H['Buy'] = H['Buy'].replace(1, 'ZZ')\n",
    "H['Buy'].unique()"
   ]
  },
  {
   "cell_type": "code",
   "execution_count": 34,
   "metadata": {},
   "outputs": [
    {
     "name": "stdout",
     "output_type": "stream",
     "text": [
      "Field          Ticker Date/Time Alert BearBreak  Buy Close DnBars  \\\n",
      "0          ATLANTA.NS  1/1/2024   0.0       NaN  NaN   NaN    NaN   \n",
      "1             GATI.NS  1/1/2024   0.0       NaN  NaN   NaN    NaN   \n",
      "2       TATACOFFEE.NS  1/1/2024   0.0       NaN  NaN   NaN    NaN   \n",
      "3       TATAMETALI.NS  1/1/2024   0.0       NaN  NaN   NaN    NaN   \n",
      "4         TINPLATE.NS  1/1/2024   0.0       NaN  NaN   NaN    NaN   \n",
      "...               ...       ...   ...       ...  ...   ...    ...   \n",
      "132118      ^CNXMETAL  9/9/2024   0.0       NaN  NaN   NaN    NaN   \n",
      "132119    ^CNXPSUBANK  9/9/2024   0.0       NaN  NaN   NaN    NaN   \n",
      "132120     ^CNXREALTY  9/9/2024   0.0       NaN  NaN   NaN    NaN   \n",
      "132121       ^NSEBANK  9/9/2024   0.0       NaN  NaN   NaN    NaN   \n",
      "132122          ^NSEI  9/9/2024   0.0       NaN  NaN   NaN    NaN   \n",
      "\n",
      "Field  Downtrend Length FromHigh FromLow  ... PercentileRank    Rank    S1  \\\n",
      "0                   NaN      NaN     NaN  ...           81.5   660.0  0.54   \n",
      "1                   NaN      NaN     NaN  ...          19.17  2880.0  1.89   \n",
      "2                   NaN      NaN     NaN  ...          69.99  1070.0  0.04   \n",
      "3                   NaN      NaN     NaN  ...          65.89  1216.0  0.43   \n",
      "4                   NaN      NaN     NaN  ...          66.98  1177.0  0.59   \n",
      "...                 ...      ...     ...  ...            ...     ...   ...   \n",
      "132118              NaN      NaN     NaN  ...          49.55  1798.0 -2.09   \n",
      "132119              NaN      NaN     NaN  ...          28.44  2550.0 -1.05   \n",
      "132120              NaN      NaN     NaN  ...          54.58  1619.0 -0.77   \n",
      "132121              NaN      NaN     NaN  ...          49.83  1788.0  0.44   \n",
      "132122              NaN      NaN     NaN  ...          56.54  1549.0 -0.28   \n",
      "\n",
      "Field    SCTR   SL UpBars Uptrend Length   hh   ll myShort  \n",
      "0       35.59  NaN    NaN            NaN  NaN  NaN     NaN  \n",
      "1       -0.83  NaN    NaN            NaN  NaN  NaN     NaN  \n",
      "2       26.08  NaN    NaN            NaN  NaN  NaN     NaN  \n",
      "3       23.28  NaN    NaN            NaN  NaN  NaN     NaN  \n",
      "4       23.95  NaN    NaN            NaN  NaN  NaN     NaN  \n",
      "...       ...  ...    ...            ...  ...  ...     ...  \n",
      "132118   6.57  NaN    NaN            NaN  NaN  NaN     NaN  \n",
      "132119  -1.79  NaN    NaN            NaN  NaN  NaN     NaN  \n",
      "132120    8.9  NaN    NaN            NaN  NaN  NaN     NaN  \n",
      "132121   6.69  NaN    NaN            NaN  NaN  NaN     NaN  \n",
      "132122   9.69  NaN    NaN            NaN  NaN  NaN     NaN  \n",
      "\n",
      "[132123 rows x 26 columns]\n"
     ]
    }
   ],
   "source": [
    "# List of dataframes to merge\n",
    "tables = [A, B, C, D, E, F, G, H]\n",
    "\n",
    "# Start with an empty DataFrame for the final result\n",
    "final_table = pd.DataFrame()\n",
    "\n",
    "# Perform full outer join on Date/Time and create new rows for each Ticker\n",
    "for table in tables:\n",
    "    if 'Ticker' in table.columns:\n",
    "        # Include 'Ticker' and 'Date/Time' in the melt operation\n",
    "        temp = pd.melt(table, id_vars=['Date/Time', 'Ticker'], var_name='Field', value_name='Value')\n",
    "    else:\n",
    "        # If 'Ticker' is not present, use only 'Date/Time'\n",
    "        temp = pd.melt(table, id_vars=['Date/Time'], var_name='Field', value_name='Value')\n",
    "\n",
    "    final_table = pd.concat([final_table, temp], ignore_index=True)\n",
    "\n",
    "# Pivot the final table to get back the desired structure\n",
    "final_table = final_table.pivot_table(index=['Date/Time', 'Ticker'], columns='Field', values='Value', aggfunc='first').reset_index()\n",
    "\n",
    "# Re-arrange columns to have 'Ticker' as the first column\n",
    "cols = ['Ticker', 'Date/Time'] + [col for col in final_table.columns if col not in ['Ticker', 'Date/Time']]\n",
    "final_table = final_table[cols]\n",
    "\n",
    "# Optionally, save the result to a CSV file\n",
    "final_table.to_csv('joined_tickers.csv', index=False)\n"
   ]
  }
 ],
 "metadata": {
  "kernelspec": {
   "display_name": "myenv",
   "language": "python",
   "name": "python3"
  },
  "language_info": {
   "codemirror_mode": {
    "name": "ipython",
    "version": 3
   },
   "file_extension": ".py",
   "mimetype": "text/x-python",
   "name": "python",
   "nbconvert_exporter": "python",
   "pygments_lexer": "ipython3",
   "version": "3.9.19"
  }
 },
 "nbformat": 4,
 "nbformat_minor": 2
}
